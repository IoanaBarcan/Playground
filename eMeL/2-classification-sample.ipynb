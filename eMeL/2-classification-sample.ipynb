{
 "cells": [
  {
   "cell_type": "markdown",
   "metadata": {},
   "source": [
    "# Classification sample on Rotten Tomatoes movie reviews"
   ]
  },
  {
   "cell_type": "code",
   "execution_count": 256,
   "metadata": {
    "collapsed": true
   },
   "outputs": [],
   "source": [
    "import pandas as pd\n",
    "from matplotlib import pyplot as plt\n",
    "from matplotlib.colors import ListedColormap\n",
    "import numpy as np\n",
    "\n",
    "# this allows plots to appear directly in the notebook\n",
    "%matplotlib inline\n",
    "\n",
    "# prettify charts\n",
    "plt.style.use('ggplot')"
   ]
  },
  {
   "cell_type": "markdown",
   "metadata": {},
   "source": [
    "## Import data\n",
    "Data set taken from [Kaggle: Movie Reviews](https://www.kaggle.com/c/sentiment-analysis-on-movie-reviews).\n",
    "\n",
    "Some examples:\n",
    "\n",
    "  * 4 (positive): \"They works spectacularly well... A shiver-inducing, nerve-rattling ride.\"\n",
    "  * 3 (somewhat positive): \"rooted in a sincere performance by the title character undergoing midlife crisis\"\n",
    "  * 2 (neutral): \"Its everything you would expect -- but nothing more.\"\n",
    "  * 1 (somewhat negative): \"But it does not leave you with much.\"\n",
    "  * 0 (negative): \"The movies progression into rambling incoherence gives new meaning to the phrase fatal script error.\""
   ]
  },
  {
   "cell_type": "code",
   "execution_count": null,
   "metadata": {
    "collapsed": false
   },
   "outputs": [],
   "source": [
    "phrases = pd.read_csv('d:/docs/ml/datas/movies/train.tsv', sep = '\\t', index_col = 0)"
   ]
  },
  {
   "cell_type": "markdown",
   "metadata": {},
   "source": [
    "## Inspect data"
   ]
  },
  {
   "cell_type": "markdown",
   "metadata": {},
   "source": [
    "### Original data"
   ]
  },
  {
   "cell_type": "code",
   "execution_count": null,
   "metadata": {
    "collapsed": false
   },
   "outputs": [],
   "source": [
    "phrases.head()"
   ]
  },
  {
   "cell_type": "markdown",
   "metadata": {},
   "source": [
    "### What do the sentences look like?"
   ]
  },
  {
   "cell_type": "code",
   "execution_count": null,
   "metadata": {
    "collapsed": false
   },
   "outputs": [],
   "source": [
    "# print the first sentence\n",
    "phrases.iloc[0]['Phrase']"
   ]
  },
  {
   "cell_type": "code",
   "execution_count": null,
   "metadata": {
    "collapsed": false
   },
   "outputs": [],
   "source": [
    "phrases.loc[lambda row: row.SentenceId == 2].iloc[0]['Phrase']\n",
    "#df.loc[lambda row: row.SentenceId == 2]"
   ]
  },
  {
   "cell_type": "markdown",
   "metadata": {},
   "source": [
    "## Okay, let's go"
   ]
  },
  {
   "cell_type": "markdown",
   "metadata": {},
   "source": [
    "### Count words"
   ]
  },
  {
   "cell_type": "code",
   "execution_count": 239,
   "metadata": {
    "collapsed": false
   },
   "outputs": [],
   "source": [
    "small = phrases[phrases['SentenceId'] < 100]\n",
    "#phrases['WordsCount'] = phrases['Phrase'].str.split().sum(axis = 0) #.apply(lambda phrase: pd.value_counts(phrase.split()))\n",
    "# phrases['WordsCount'] = phrases['Phrase'].apply(lambda phrase: pd.value_counts(phrase.split()))"
   ]
  },
  {
   "cell_type": "code",
   "execution_count": null,
   "metadata": {
    "collapsed": false
   },
   "outputs": [],
   "source": [
    "small.shape\n",
    "#small.head()\n",
    "#len(small.iloc[0]['Phrase'].split())"
   ]
  },
  {
   "cell_type": "code",
   "execution_count": null,
   "metadata": {
    "collapsed": false
   },
   "outputs": [],
   "source": [
    "import re\n",
    "re.findall('\\w+', \" a,   bee and don't see.\")"
   ]
  },
  {
   "cell_type": "code",
   "execution_count": 240,
   "metadata": {
    "collapsed": false
   },
   "outputs": [
    {
     "name": "stderr",
     "output_type": "stream",
     "text": [
      "C:\\Users\\ibarcan\\AppData\\Local\\Continuum\\Anaconda3\\lib\\site-packages\\ipykernel\\__main__.py:1: SettingWithCopyWarning: \n",
      "A value is trying to be set on a copy of a slice from a DataFrame.\n",
      "Try using .loc[row_indexer,col_indexer] = value instead\n",
      "\n",
      "See the caveats in the documentation: http://pandas.pydata.org/pandas-docs/stable/indexing.html#indexing-view-versus-copy\n",
      "  if __name__ == '__main__':\n"
     ]
    }
   ],
   "source": [
    "small['WordsCount'] = small.apply(lambda row: len(re.findall('\\w+', row['Phrase'])), axis = 1)\n",
    "# small['WordsCount'] = small.apply(lambda row: len(row['Phrase'].split()), axis = 1)"
   ]
  },
  {
   "cell_type": "markdown",
   "metadata": {},
   "source": [
    "### Build collections of positive & negative words, respectively"
   ]
  },
  {
   "cell_type": "code",
   "execution_count": 241,
   "metadata": {
    "collapsed": false
   },
   "outputs": [
    {
     "data": {
      "text/plain": [
       "(241, 4)"
      ]
     },
     "execution_count": 241,
     "metadata": {},
     "output_type": "execute_result"
    }
   ],
   "source": [
    "positives = small[(small['WordsCount'] <= 3) & (small['Sentiment'] >= 3)]\n",
    "# positives = small[small['Sentiment'] == 4]\n",
    "# positives.drop_duplicates(subset = 'Phrase')\n",
    "positives.head()\n",
    "positives.shape"
   ]
  },
  {
   "cell_type": "code",
   "execution_count": 242,
   "metadata": {
    "collapsed": false
   },
   "outputs": [
    {
     "data": {
      "text/plain": [
       "(174, 4)"
      ]
     },
     "execution_count": 242,
     "metadata": {},
     "output_type": "execute_result"
    }
   ],
   "source": [
    "negatives = small[(small['WordsCount'] <= 3) & (small['Sentiment'] <= 1)]\n",
    "# negatives.drop_duplicates(subset = 'Phrase')\n",
    "# negatives.head()\n",
    "negatives.shape\n",
    "# negatives"
   ]
  },
  {
   "cell_type": "markdown",
   "metadata": {},
   "source": [
    "### For each phrase, count the positives and the negatives within...\n",
    "\n",
    "That's gonna take a while... :-<"
   ]
  },
  {
   "cell_type": "code",
   "execution_count": 244,
   "metadata": {
    "collapsed": false
   },
   "outputs": [],
   "source": [
    "posphrases = positives['Phrase'].values"
   ]
  },
  {
   "cell_type": "code",
   "execution_count": 245,
   "metadata": {
    "collapsed": false
   },
   "outputs": [],
   "source": [
    "negphrases = negatives['Phrase'].values"
   ]
  },
  {
   "cell_type": "code",
   "execution_count": 246,
   "metadata": {
    "collapsed": true
   },
   "outputs": [],
   "source": [
    "def count_occurences(phrase, sublist):\n",
    "    counter = 0\n",
    "    for sub in sublist:\n",
    "        counter += phrase.count(sub)\n",
    "    return counter"
   ]
  },
  {
   "cell_type": "code",
   "execution_count": 247,
   "metadata": {
    "collapsed": false
   },
   "outputs": [
    {
     "data": {
      "text/plain": [
       "4"
      ]
     },
     "execution_count": 247,
     "metadata": {},
     "output_type": "execute_result"
    }
   ],
   "source": [
    "count_occurences(\"thrilling and high hilarity\", posphrases)"
   ]
  },
  {
   "cell_type": "code",
   "execution_count": 248,
   "metadata": {
    "collapsed": false
   },
   "outputs": [
    {
     "name": "stderr",
     "output_type": "stream",
     "text": [
      "C:\\Users\\ibarcan\\AppData\\Local\\Continuum\\Anaconda3\\lib\\site-packages\\ipykernel\\__main__.py:2: SettingWithCopyWarning: \n",
      "A value is trying to be set on a copy of a slice from a DataFrame.\n",
      "Try using .loc[row_indexer,col_indexer] = value instead\n",
      "\n",
      "See the caveats in the documentation: http://pandas.pydata.org/pandas-docs/stable/indexing.html#indexing-view-versus-copy\n",
      "  from ipykernel import kernelapp as app\n",
      "C:\\Users\\ibarcan\\AppData\\Local\\Continuum\\Anaconda3\\lib\\site-packages\\ipykernel\\__main__.py:5: SettingWithCopyWarning: \n",
      "A value is trying to be set on a copy of a slice from a DataFrame.\n",
      "Try using .loc[row_indexer,col_indexer] = value instead\n",
      "\n",
      "See the caveats in the documentation: http://pandas.pydata.org/pandas-docs/stable/indexing.html#indexing-view-versus-copy\n"
     ]
    }
   ],
   "source": [
    "small['PositivesCount'] = small.apply(\n",
    "    lambda row: count_occurences(row['Phrase'], posphrases), axis = 1)\n",
    "\n",
    "small['NegativesCount'] = small.apply(\n",
    "    lambda row: count_occurences(row['Phrase'], negphrases), axis = 1)"
   ]
  },
  {
   "cell_type": "code",
   "execution_count": null,
   "metadata": {
    "collapsed": false
   },
   "outputs": [],
   "source": [
    "small.head()"
   ]
  },
  {
   "cell_type": "markdown",
   "metadata": {},
   "source": [
    "### Now let's draw something..."
   ]
  },
  {
   "cell_type": "code",
   "execution_count": 249,
   "metadata": {
    "collapsed": false
   },
   "outputs": [
    {
     "data": {
      "text/plain": [
       "<matplotlib.legend.Legend at 0x1f5959a588>"
      ]
     },
     "execution_count": 249,
     "metadata": {},
     "output_type": "execute_result"
    },
    {
     "data": {
      "image/png": "[encoded data removed]",
      "text/plain": [
       "<matplotlib.figure.Figure at 0x1f5795dac8>"
      ]
     },
     "metadata": {},
     "output_type": "display_data"
    }
   ],
   "source": [
    "# setup figure\n",
    "plt.figure(figsize=(10, 8))\n",
    "\n",
    "# scatter plot of positive phrases (x) and negative phrases (y)\n",
    "ax1=plt.subplot(111)\n",
    "cm_bright = ListedColormap(['#FF0000', '#0000FF'])\n",
    "ax1.scatter(small.PositivesCount, small.NegativesCount, c = (small.Sentiment >= 3), cmap = cm_bright)\n",
    "ax1.set_xlim((small.PositivesCount.min(), small.PositivesCount.max()))\n",
    "ax1.set_ylim((small.NegativesCount.min(), small.NegativesCount.max()))\n",
    "ax1.set_xlabel('positives')\n",
    "ax1.set_ylabel('negatives')\n",
    "ax1.legend(loc = 'upper right')"
   ]
  },
  {
   "cell_type": "code",
   "execution_count": null,
   "metadata": {
    "collapsed": false
   },
   "outputs": [],
   "source": [
    "from sklearn.linear_model import LinearRegression\n",
    "\n",
    "# get feature/predictor matrix as numpy array\n",
    "X = small[['PositivesCount', 'NegativesCount']].values\n",
    "\n",
    "# encode class labels\n",
    "classes, y = np.unique(small.Sentiment.values, return_inverse = True)\n",
    "newy = []\n",
    "for v in y:\n",
    "    if v < 3:\n",
    "        newy.append(-1)\n",
    "    else:\n",
    "        newy.append(1)\n",
    "# map {0, 1, 2, 3, 4} to {-1, 1}"
   ]
  },
  {
   "cell_type": "code",
   "execution_count": 268,
   "metadata": {
    "collapsed": false
   },
   "outputs": [
    {
     "data": {
      "image/png": "[encoded data removed]",
      "text/plain": [
       "<matplotlib.figure.Figure at 0x1f5c8f0f60>"
      ]
     },
     "metadata": {},
     "output_type": "display_data"
    }
   ],
   "source": [
    "# fit OLS regression \n",
    "est = LinearRegression(fit_intercept=True, normalize=True)\n",
    "est.fit(X, newy)\n",
    "\n",
    "# plot data and decision surface\n",
    "ax = plt.gca()\n",
    "ax.scatter(small.PositivesCount, small.NegativesCount, c = (small.Sentiment >= 3), cmap = cm_bright)\n",
    "try:\n",
    "    plot_surface(est, X[:, 0], X[:, 1], ax=ax)\n",
    "except NameError:\n",
    "    print('Please run cells in Appendix first')"
   ]
  },
  {
   "cell_type": "code",
   "execution_count": null,
   "metadata": {
    "collapsed": true
   },
   "outputs": [],
   "source": []
  },
  {
   "cell_type": "code",
   "execution_count": null,
   "metadata": {
    "collapsed": true
   },
   "outputs": [],
   "source": []
  },
  {
   "cell_type": "markdown",
   "metadata": {},
   "source": [
    "Appendix:"
   ]
  },
  {
   "cell_type": "code",
   "execution_count": 267,
   "metadata": {
    "collapsed": true
   },
   "outputs": [],
   "source": [
    "# utility function to plot the decision surface\n",
    "def plot_surface(est, x_1, x_2, ax=None, threshold=0.0, contourf=False):\n",
    "    \"\"\"Plots the decision surface of ``est`` on features ``x1`` and ``x2``. \"\"\"\n",
    "    xx1, xx2 = np.meshgrid(np.linspace(x_1.min(), x_1.max(), 100), \n",
    "                           np.linspace(x_2.min(), x_2.max(), 100))\n",
    "    # plot the hyperplane by evaluating the parameters on the grid\n",
    "    X_pred = np.c_[xx1.ravel(), xx2.ravel()]  # convert 2d grid into seq of points\n",
    "    if hasattr(est, 'predict_proba'):  # check if ``est`` supports probabilities\n",
    "        # take probability of positive class\n",
    "        pred = est.predict_proba(X_pred)[:, 1]\n",
    "    else:\n",
    "        pred = est.predict(X_pred)\n",
    "    Z = pred.reshape((100, 100))  # reshape seq to grid\n",
    "    if ax is None:\n",
    "        ax = plt.gca()\n",
    "    # plot line via contour plot\n",
    "\n",
    "    if contourf:\n",
    "        ax.contourf(xx1, xx2, Z, levels=np.linspace(0, 1.0, 10), cmap=plt.cm.RdBu, alpha=0.6)\n",
    "    ax.contour(xx1, xx2, Z, levels=[threshold], colors='black')\n",
    "    ax.set_xlim((x_1.min(), x_1.max()))\n",
    "    ax.set_ylim((x_2.min(), x_2.max()))\n",
    "\n",
    "def plot_datasets(est=None):\n",
    "    \"\"\"Plotsthe decision surface of ``est`` on each of the three datasets. \"\"\"\n",
    "    fig, axes = plt.subplots(1, 3, figsize=(10, 4))\n",
    "    for (name, ds), ax in zip(datasets.iteritems(), axes):\n",
    "        X_train = ds['X_train']\n",
    "        y_train = ds['y_train']\n",
    "        X_test = ds['X_test']\n",
    "        y_test = ds['y_test']\n",
    "\n",
    "        # plot test lighter than training\n",
    "        cm_bright = ListedColormap(['#FF0000', '#0000FF'])\n",
    "        # Plot the training points\n",
    "        ax.scatter(X_train[:, 0], X_train[:, 1], c=y_train, cmap=cm_bright)\n",
    "        # and testing points\n",
    "        ax.scatter(X_test[:, 0], X_test[:, 1], c=y_test, cmap=cm_bright, alpha=0.6)\n",
    "        # plot limits\n",
    "        ax.set_xlim(X_train[:, 0].min(), X_train[:, 0].max())\n",
    "        ax.set_ylim(X_train[:, 1].min(), X_train[:, 1].max())\n",
    "        # no ticks\n",
    "        ax.set_xticks(())\n",
    "        ax.set_yticks(())\n",
    "        ax.set_ylabel('$x_1$')\n",
    "        ax.set_xlabel('$x_0$')\n",
    "        ax.set_title(name)\n",
    "        if est is not None:\n",
    "            est.fit(X_train, y_train)\n",
    "            plot_surface(est, X_train[:, 0], X_train[:, 1], ax=ax, threshold=0.5, contourf=True)\n",
    "            err = (y_test != est.predict(X_test)).mean()\n",
    "            ax.text(0.88, 0.02, '%.2f' % err, transform=ax.transAxes)\n",
    "\n",
    "    fig.subplots_adjust(left=.02, right=.98)"
   ]
  },
  {
   "cell_type": "code",
   "execution_count": null,
   "metadata": {
    "collapsed": true
   },
   "outputs": [],
   "source": []
  }
 ],
 "metadata": {
  "kernelspec": {
   "display_name": "Python 3",
   "language": "python",
   "name": "python3"
  },
  "language_info": {
   "codemirror_mode": {
    "name": "ipython",
    "version": 3
   },
   "file_extension": ".py",
   "mimetype": "text/x-python",
   "name": "python",
   "nbconvert_exporter": "python",
   "pygments_lexer": "ipython3",
   "version": "3.6.0"
  }
 },
 "nbformat": 4,
 "nbformat_minor": 2
}
